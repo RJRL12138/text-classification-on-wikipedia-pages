{
 "cells": [
  {
   "cell_type": "code",
   "execution_count": 1,
   "metadata": {},
   "outputs": [],
   "source": [
    "from ContentUtil import ContentUtil\n",
    "import pandas as pd\n",
    "import numpy as np\n",
    "from sklearn.utils import shuffle"
   ]
  },
  {
   "cell_type": "code",
   "execution_count": 2,
   "metadata": {},
   "outputs": [],
   "source": [
    "ctl = ContentUtil()\n",
    "AI_data, Not_AI_data = ctl.loadData(\"datasets/AI/\", \"datasets/NOT/\")\n",
    "AI = np.array(AI_data).reshape(-1,1)\n",
    "Not_AI = np.array(Not_AI_data).reshape(-1,1)\n",
    "data = np.concatenate((AI, Not_AI), axis=0)\n",
    "label = [\"AI\"]*AI.shape[0]+[\"NOT\"]*Not_AI.shape[0]\n",
    "label = np.array(label).reshape(-1,1)"
   ]
  },
  {
   "cell_type": "code",
   "execution_count": 3,
   "metadata": {},
   "outputs": [
    {
     "data": {
      "text/html": [
       "<div>\n",
       "<style scoped>\n",
       "    .dataframe tbody tr th:only-of-type {\n",
       "        vertical-align: middle;\n",
       "    }\n",
       "\n",
       "    .dataframe tbody tr th {\n",
       "        vertical-align: top;\n",
       "    }\n",
       "\n",
       "    .dataframe thead th {\n",
       "        text-align: right;\n",
       "    }\n",
       "</style>\n",
       "<table border=\"1\" class=\"dataframe\">\n",
       "  <thead>\n",
       "    <tr style=\"text-align: right;\">\n",
       "      <th></th>\n",
       "      <th>data</th>\n",
       "      <th>label</th>\n",
       "    </tr>\n",
       "  </thead>\n",
       "  <tbody>\n",
       "    <tr>\n",
       "      <th>0</th>\n",
       "      <td>Danish computer scientistCorinna Cortes is a D...</td>\n",
       "      <td>AI</td>\n",
       "    </tr>\n",
       "    <tr>\n",
       "      <th>1</th>\n",
       "      <td>The examples and perspective in this article m...</td>\n",
       "      <td>NOT</td>\n",
       "    </tr>\n",
       "    <tr>\n",
       "      <th>2</th>\n",
       "      <td>Md Uzzal Hossain is a Bangladeshi Artist Born ...</td>\n",
       "      <td>NOT</td>\n",
       "    </tr>\n",
       "    <tr>\n",
       "      <th>3</th>\n",
       "      <td>Mesowear is a method used in different branche...</td>\n",
       "      <td>NOT</td>\n",
       "    </tr>\n",
       "    <tr>\n",
       "      <th>4</th>\n",
       "      <td>The California Resale Royalty Act Civil Code s...</td>\n",
       "      <td>NOT</td>\n",
       "    </tr>\n",
       "  </tbody>\n",
       "</table>\n",
       "</div>"
      ],
      "text/plain": [
       "                                                data label\n",
       "0  Danish computer scientistCorinna Cortes is a D...    AI\n",
       "1  The examples and perspective in this article m...   NOT\n",
       "2  Md Uzzal Hossain is a Bangladeshi Artist Born ...   NOT\n",
       "3  Mesowear is a method used in different branche...   NOT\n",
       "4  The California Resale Royalty Act Civil Code s...   NOT"
      ]
     },
     "execution_count": 3,
     "metadata": {},
     "output_type": "execute_result"
    }
   ],
   "source": [
    "dataset = np.concatenate((data,label),axis=1)\n",
    "df = pd.DataFrame(dataset,columns=[\"data\",\"label\"])\n",
    "dfshf = shuffle(df).reset_index(drop=True)\n",
    "dfshf.head()"
   ]
  },
  {
   "cell_type": "code",
   "execution_count": 8,
   "metadata": {},
   "outputs": [
    {
     "data": {
      "text/plain": [
       "<matplotlib.axes._subplots.AxesSubplot at 0x7fe71425a4e0>"
      ]
     },
     "execution_count": 8,
     "metadata": {},
     "output_type": "execute_result"
    },
    {
     "data": {
      "image/png": "[encoded data removed]",
      "text/plain": [
       "<Figure size 432x288 with 1 Axes>"
      ]
     },
     "metadata": {
      "needs_background": "light"
     },
     "output_type": "display_data"
    }
   ],
   "source": [
    "df[\"label\"].value_counts().plot(kind='bar',title=\"Distribution of Dataset\")"
   ]
  },
  {
   "cell_type": "code",
   "execution_count": 9,
   "metadata": {},
   "outputs": [],
   "source": [
    "df[\"length\"] = df[\"data\"].apply(lambda x:len(x.strip().split()))"
   ]
  },
  {
   "cell_type": "code",
   "execution_count": 23,
   "metadata": {},
   "outputs": [
    {
     "data": {
      "text/plain": [
       "<matplotlib.axes._subplots.AxesSubplot at 0x7fe71527b9b0>"
      ]
     },
     "execution_count": 23,
     "metadata": {},
     "output_type": "execute_result"
    },
    {
     "data": {
      "image/png": "[encoded data removed]",
      "text/plain": [
       "<Figure size 432x288 with 1 Axes>"
      ]
     },
     "metadata": {
      "needs_background": "light"
     },
     "output_type": "display_data"
    }
   ],
   "source": [
    "df[\"length\"].plot.hist(bins=[2000,4000,6000,8000,10000,12000],title=\"Distribution of text length\")"
   ]
  },
  {
   "cell_type": "code",
   "execution_count": 25,
   "metadata": {},
   "outputs": [],
   "source": [
    "from nltk.tokenize import word_tokenize\n",
    "from nltk.stem import PorterStemmer\n",
    "stopwords = ctl.getStopWords()"
   ]
  },
  {
   "cell_type": "code",
   "execution_count": 28,
   "metadata": {},
   "outputs": [],
   "source": [
    "def preprocessing(text):\n",
    "    stemmer = PorterStemmer()\n",
    "    tokens = word_tokenize(str(text))\n",
    "    newtext = \"\"\n",
    "    for w in tokens:\n",
    "        if w not in stopwords and len(w)>1:\n",
    "            newtext = newtext + \" \" + stemmer.stem(w)\n",
    "    return newtext"
   ]
  },
  {
   "cell_type": "code",
   "execution_count": 29,
   "metadata": {},
   "outputs": [],
   "source": [
    "df[\"tokens\"]=df[\"data\"].apply(preprocessing)"
   ]
  },
  {
   "cell_type": "code",
   "execution_count": 31,
   "metadata": {},
   "outputs": [],
   "source": [
    "from sklearn.feature_extraction.text import TfidfVectorizer\n",
    "from sklearn.feature_selection import SelectKBest,chi2"
   ]
  },
  {
   "cell_type": "code",
   "execution_count": 45,
   "metadata": {},
   "outputs": [],
   "source": [
    "vectorizer = TfidfVectorizer(analyzer='word',max_features=10000,ngram_range=(1, 2),stop_words=stopwords)\n",
    "tfidf = vectorizer.fit_transform(df['tokens'])\n",
    "word_reduced = SelectKBest(chi2,k=5000).fit_transform(tfidf, label)\n",
    "importance = np.argsort(np.asarray(tfidf.sum(axis=0)).ravel())[::-1]\n",
    "tfidf_feature_names = np.array(vectorizer.get_feature_names())"
   ]
  },
  {
   "cell_type": "code",
   "execution_count": 47,
   "metadata": {},
   "outputs": [
    {
     "data": {
      "text/plain": [
       "array(['mw', 'mw parser', 'parser output', 'parser', 'output', 'art',\n",
       "       'comput', 'system', 'robot', 'learn', 'sidebar', 'human',\n",
       "       'research', 'output sidebar', 'model', 'work', 'cell', 'cs',\n",
       "       'univers', 'intellig', 'thi', 'articl', 'develop', 'data',\n",
       "       'biolog', 'base', 'organ', 'ai', 'scienc', 'imag', 'process',\n",
       "       'speci', 'design', 'book', 'paint', 'artist', 'artifici', 'sourc',\n",
       "       'machin', 'citat', 'technolog', 'remov', 'program', 'inform',\n",
       "       'output cs', 'exampl', 'studi', 'style', 'languag', 'network',\n",
       "       'size', 'algorithm', 'left', 'award', 'function', 'agent',\n",
       "       'artifici intellig', 'right', 'space', 'form', 'set', 'creat',\n",
       "       'knowledg', 'method', 'game', 'natur', 'term', 'state', 'anim',\n",
       "       'help', 'interact', 'object', 'lock', 'type', 'margin', 'engin',\n",
       "       'top', 'theori', 'project', 'applic', 'group', 'plant', 'templat',\n",
       "       'world', 'control', 'field', 'problem', 'product', 'softwar',\n",
       "       'institut', 'messag', 'gener', 'wikipedia', 'name', 'link',\n",
       "       'relat', 'techniqu', 'life', 'dna', 'pleas', 'structur', 'rule',\n",
       "       'improv', 'activ', 'protein', 'known', 'remov templat',\n",
       "       'learn remov', 'center', 'text', 'concept', 'logic', 'call',\n",
       "       'centuri', 'specif', 'line', 'cultur', 'thi articl', 'featur',\n",
       "       'number', 'part', 'refer', 'gene', 'materi', 'result', 'origin',\n",
       "       'templat messag', 'th', 'compani', 'font', 'common', 'genet',\n",
       "       'describ', 'effect', 'find', 'list', 'live', 'order', 'servic',\n",
       "       'cognit', 'align', 'select', 'produc', 'neural', 'chang', 'commun',\n",
       "       'allow', 'valu', 'publish', 'hatnot', 'output hatnot', 'point',\n",
       "       'oper', 'intern', 'level', 'navbar', 'output navbar', 'associ',\n",
       "       'test', 'histori', 'person', 'pleas help', 'support', 'perform',\n",
       "       'fuzzi', 'environ', 'unit', 'px', 'peopl', 'paper', 'social',\n",
       "       'word', 'individu', 'search', 'earli', 'machin learn', 'mean',\n",
       "       'societi', 'approach', 'bodi', 'evolut', 'open', 'sequenc',\n",
       "       'action', 'light', 'pattern', 'addit', 'requir', 'analysi',\n",
       "       'asbox', 'area', 'output asbox', 'visual', 'case', 'help improv',\n",
       "       'defin', 'repres', 'complex', 'public', 'nation'], dtype='<U33')"
      ]
     },
     "execution_count": 47,
     "metadata": {},
     "output_type": "execute_result"
    }
   ],
   "source": [
    "n_top = 200\n",
    "topwords = tfidf_feature_names[importance[:n_top]]\n",
    "topwords"
   ]
  },
  {
   "cell_type": "code",
   "execution_count": 48,
   "metadata": {},
   "outputs": [],
   "source": [
    "X, y = word_reduced, df[\"label\"]"
   ]
  },
  {
   "cell_type": "code",
   "execution_count": 49,
   "metadata": {},
   "outputs": [],
   "source": [
    "from sklearn.model_selection import train_test_split\n",
    "X_train, X_test, y_train, y_test = train_test_split(X, y, random_state=2021)"
   ]
  },
  {
   "cell_type": "code",
   "execution_count": 65,
   "metadata": {},
   "outputs": [],
   "source": [
    "import matplotlib.pyplot as plt\n",
    "import itertools\n",
    "\n",
    "def plot_confusion_matrix(cm, classes,\n",
    "                          normalize=False,\n",
    "                          title='Confusion matrix',\n",
    "                          cmap=plt.get_cmap(\"Blues\")):\n",
    "    \"\"\"\n",
    "    This function prints and plots the confusion matrix.\n",
    "    Normalization can be applied by setting `normalize=True`.\n",
    "    \"\"\"\n",
    "    if normalize:\n",
    "        cm = cm.astype('float') / cm.sum(axis=1)[:, np.newaxis]\n",
    "        print(\"Normalized confusion matrix\")\n",
    "    else:\n",
    "        print('Confusion matrix, without normalization')\n",
    "\n",
    "    # print(cm)\n",
    "\n",
    "    plt.imshow(cm, interpolation='nearest', cmap=cmap)\n",
    "    plt.title(title)\n",
    "    plt.colorbar()\n",
    "    tick_marks = np.arange(len(classes))\n",
    "    plt.xticks(tick_marks, classes, rotation=45)\n",
    "    plt.yticks(tick_marks, classes)\n",
    "\n",
    "    fmt = '.2f' if normalize else 'd'\n",
    "    thresh = cm.max() / 2.\n",
    "    for i, j in itertools.product(range(cm.shape[0]), range(cm.shape[1])):\n",
    "        plt.text(j, i, format(cm[i, j], fmt),\n",
    "                 horizontalalignment=\"center\",\n",
    "                 color=\"white\" if cm[i, j] > thresh else \"black\")\n",
    "\n",
    "    plt.ylabel('True label')\n",
    "    plt.xlabel('Predicted label')\n",
    "    plt.tight_layout()"
   ]
  },
  {
   "cell_type": "code",
   "execution_count": 70,
   "metadata": {},
   "outputs": [],
   "source": [
    "def cv_all(word_reduced, label):\n",
    "    svm_cv_results = cross_validate(svm_clf, word_reduced, label,\n",
    "                                    scoring=['accuracy', 'recall_macro', 'precision_macro', 'f1_macro'], cv=10,\n",
    "                                    return_train_score=False,return_estimator=True)\n",
    "    nb_cv_results = cross_validate(nb_clf, word_reduced, label,\n",
    "                                   scoring=['accuracy', 'recall_macro', 'precision_macro', 'f1_macro'], cv=10,\n",
    "                                   return_train_score=False,return_estimator=True)\n",
    "    dt_cv_results = cross_validate(dt_clf, word_reduced, label,\n",
    "                                   scoring=['accuracy', 'recall_macro', 'precision_macro', 'f1_macro'], cv=10,\n",
    "                                   return_train_score=False,return_estimator=True)\n",
    "    knn_cv_results = cross_validate(knn_clf, word_reduced, label,\n",
    "                                    scoring=['accuracy', 'recall_macro', 'precision_macro', 'f1_macro'], cv=10,\n",
    "                                    return_train_score=False,return_estimator=True)\n",
    "    rfc_cv_results = cross_validate(rfc_clf, word_reduced, label,\n",
    "                                    scoring=['accuracy', 'recall_macro', 'precision_macro', 'f1_macro'], cv=10,\n",
    "                                    return_train_score=False,return_estimator=True)\n",
    "    return svm_cv_results, nb_cv_results, dt_cv_results, knn_cv_results, rfc_cv_results"
   ]
  },
  {
   "cell_type": "code",
   "execution_count": 68,
   "metadata": {},
   "outputs": [],
   "source": [
    "from mlxtend.evaluate import paired_ttest_kfold_cv\n",
    "from scipy.stats import friedmanchisquare\n",
    "from sklearn.ensemble import RandomForestClassifier\n",
    "from sklearn.feature_extraction.text import TfidfVectorizer\n",
    "from sklearn.feature_selection import SelectKBest, chi2\n",
    "from sklearn.metrics import classification_report\n",
    "from sklearn.metrics import confusion_matrix\n",
    "from sklearn.model_selection import StratifiedKFold\n",
    "from sklearn.model_selection import cross_val_predict\n",
    "from sklearn.model_selection import cross_validate\n",
    "from sklearn.model_selection import learning_curve\n",
    "from sklearn.model_selection import train_test_split\n",
    "from sklearn.model_selection import validation_curve\n",
    "from sklearn.naive_bayes import MultinomialNB\n",
    "from sklearn.neighbors import KNeighborsClassifier\n",
    "from sklearn.svm import LinearSVC\n",
    "from sklearn.svm import SVC\n",
    "from sklearn.tree import DecisionTreeClassifier\n",
    "from sklearn.utils.multiclass import unique_labels"
   ]
  },
  {
   "cell_type": "code",
   "execution_count": 69,
   "metadata": {},
   "outputs": [],
   "source": [
    "# build classifiers\n",
    "seed = 2021\n",
    "svm_clf = LinearSVC(random_state=seed, tol=1e-5)\n",
    "nb_clf = MultinomialNB()\n",
    "dt_clf = DecisionTreeClassifier(criterion='entropy', max_features='sqrt', random_state=seed)\n",
    "knn_clf = KNeighborsClassifier(n_neighbors=7, n_jobs=2)\n",
    "rfc_clf = RandomForestClassifier(random_state=seed)"
   ]
  },
  {
   "cell_type": "code",
   "execution_count": 79,
   "metadata": {},
   "outputs": [
    {
     "data": {
      "text/plain": [
       "{'AI', 'NOT'}"
      ]
     },
     "execution_count": 79,
     "metadata": {},
     "output_type": "execute_result"
    }
   ],
   "source": [
    "classes = set(y)\n",
    "classes"
   ]
  },
  {
   "cell_type": "code",
   "execution_count": 93,
   "metadata": {},
   "outputs": [],
   "source": [
    "r1, r2, r3, r4, r5 = cv_all(X_train,y_train)"
   ]
  },
  {
   "cell_type": "code",
   "execution_count": 94,
   "metadata": {},
   "outputs": [],
   "source": [
    "def predict_and_plot(clf,X_test,y_test,title):\n",
    "    ind = np.argmax(clf[\"test_accuracy\"])\n",
    "    final_clf = clf['estimator'][ind]\n",
    "    y_pred = final_clf.predict(X_test)\n",
    "    cfm = confusion_matrix(y_test, y_pred)\n",
    "    plot_confusion_matrix(cfm,classes,title=title)"
   ]
  },
  {
   "cell_type": "code",
   "execution_count": 95,
   "metadata": {},
   "outputs": [
    {
     "name": "stdout",
     "output_type": "stream",
     "text": [
      "Confusion matrix, without normalization\n"
     ]
    },
    {
     "data": {
      "image/png": "[encoded data removed]",
      "text/plain": [
       "<Figure size 432x288 with 2 Axes>"
      ]
     },
     "metadata": {
      "needs_background": "light"
     },
     "output_type": "display_data"
    }
   ],
   "source": [
    "predict_and_plot(r1,X_test,y_test,\"SVM Confusion Matrix\")"
   ]
  },
  {
   "cell_type": "code",
   "execution_count": 96,
   "metadata": {},
   "outputs": [
    {
     "name": "stdout",
     "output_type": "stream",
     "text": [
      "Confusion matrix, without normalization\n"
     ]
    },
    {
     "data": {
      "image/png": "[encoded data removed]",
      "text/plain": [
       "<Figure size 432x288 with 2 Axes>"
      ]
     },
     "metadata": {
      "needs_background": "light"
     },
     "output_type": "display_data"
    }
   ],
   "source": [
    "predict_and_plot(r2,X_test,y_test,\"Naive Bayes Confusion Matrix\")"
   ]
  },
  {
   "cell_type": "code",
   "execution_count": 97,
   "metadata": {},
   "outputs": [
    {
     "name": "stdout",
     "output_type": "stream",
     "text": [
      "Confusion matrix, without normalization\n"
     ]
    },
    {
     "data": {
      "image/png": "[encoded data removed]",
      "text/plain": [
       "<Figure size 432x288 with 2 Axes>"
      ]
     },
     "metadata": {
      "needs_background": "light"
     },
     "output_type": "display_data"
    }
   ],
   "source": [
    "predict_and_plot(r3,X_test,y_test,\"Descion Tree Confusion Matrix\")"
   ]
  },
  {
   "cell_type": "code",
   "execution_count": 98,
   "metadata": {},
   "outputs": [
    {
     "name": "stdout",
     "output_type": "stream",
     "text": [
      "Confusion matrix, without normalization\n"
     ]
    },
    {
     "data": {
      "image/png": "[encoded data removed]",
      "text/plain": [
       "<Figure size 432x288 with 2 Axes>"
      ]
     },
     "metadata": {
      "needs_background": "light"
     },
     "output_type": "display_data"
    }
   ],
   "source": [
    "predict_and_plot(r4,X_test,y_test,\"KNN Confusion Matrix\")"
   ]
  },
  {
   "cell_type": "code",
   "execution_count": 99,
   "metadata": {},
   "outputs": [
    {
     "name": "stdout",
     "output_type": "stream",
     "text": [
      "Confusion matrix, without normalization\n"
     ]
    },
    {
     "data": {
      "image/png": "[encoded data removed]",
      "text/plain": [
       "<Figure size 432x288 with 2 Axes>"
      ]
     },
     "metadata": {
      "needs_background": "light"
     },
     "output_type": "display_data"
    }
   ],
   "source": [
    "predict_and_plot(r5,X_test,y_test,\"RandomForest Confusion Matrix\")"
   ]
  },
  {
   "cell_type": "code",
   "execution_count": 100,
   "metadata": {},
   "outputs": [],
   "source": [
    "def plot_classification_report(clf, X, y):\n",
    "    class_names = unique_labels(y)\n",
    "    error_evaluation = cross_val_predict(estimator=clf, X=X, y=y, cv=10)\n",
    "    print(classification_report(y, error_evaluation, target_names=class_names))"
   ]
  },
  {
   "cell_type": "code",
   "execution_count": 102,
   "metadata": {},
   "outputs": [
    {
     "name": "stdout",
     "output_type": "stream",
     "text": [
      "              precision    recall  f1-score   support\n",
      "\n",
      "          AI       0.97      0.97      0.97      1614\n",
      "         NOT       0.97      0.97      0.97      1463\n",
      "\n",
      "    accuracy                           0.97      3077\n",
      "   macro avg       0.97      0.97      0.97      3077\n",
      "weighted avg       0.97      0.97      0.97      3077\n",
      "\n"
     ]
    }
   ],
   "source": [
    "plot_classification_report(svm_clf, X_train, y_train)\n"
   ]
  },
  {
   "cell_type": "code",
   "execution_count": 103,
   "metadata": {},
   "outputs": [
    {
     "name": "stdout",
     "output_type": "stream",
     "text": [
      "              precision    recall  f1-score   support\n",
      "\n",
      "          AI       0.95      0.97      0.96      1614\n",
      "         NOT       0.96      0.94      0.95      1463\n",
      "\n",
      "    accuracy                           0.95      3077\n",
      "   macro avg       0.95      0.95      0.95      3077\n",
      "weighted avg       0.95      0.95      0.95      3077\n",
      "\n"
     ]
    }
   ],
   "source": [
    "plot_classification_report(rfc_clf, X_train, y_train)"
   ]
  },
  {
   "cell_type": "code",
   "execution_count": 106,
   "metadata": {},
   "outputs": [],
   "source": [
    "# the function of plotting learning curve\n",
    "def plot_learning_curve(clf, X, y, clf_name,size):\n",
    "    train_sizes, train_scores, valid_scores = learning_curve(clf, X, y,\n",
    "                                                             train_sizes=size, cv=10)\n",
    "    train_scores_mean = np.mean(train_scores, axis=1)\n",
    "    train_scores_std = np.std(train_scores, axis=1)\n",
    "    test_scores_mean = np.mean(valid_scores, axis=1)\n",
    "    test_scores_std = np.std(valid_scores, axis=1)\n",
    "    plt.grid()\n",
    "    plt.title(\"Learning curve for \" + clf_name)\n",
    "    plt.fill_between(train_sizes, train_scores_mean - train_scores_std,\n",
    "                     train_scores_mean + train_scores_std, alpha=0.1,\n",
    "                     color=\"r\")\n",
    "    plt.fill_between(train_sizes, test_scores_mean - test_scores_std,\n",
    "                     test_scores_mean + test_scores_std, alpha=0.1, color=\"g\")\n",
    "    plt.plot(train_sizes, train_scores_mean, 'o-', color=\"r\",\n",
    "             label=\"Training score\")\n",
    "    plt.plot(train_sizes, test_scores_mean, 'o-', color=\"g\",\n",
    "             label=\"Cross-validation score\")\n",
    "    plt.xlabel(\"Sample Size\")\n",
    "    plt.ylabel(\"Accuracy\")\n",
    "    plt.legend(loc=\"best\")\n",
    "    plt.show()"
   ]
  },
  {
   "cell_type": "code",
   "execution_count": 108,
   "metadata": {},
   "outputs": [
    {
     "data": {
      "image/png": "[encoded data removed]",
      "text/plain": [
       "<Figure size 432x288 with 1 Axes>"
      ]
     },
     "metadata": {
      "needs_background": "light"
     },
     "output_type": "display_data"
    }
   ],
   "source": [
    "plot_learning_curve(svm_clf, X_train, y_train, \"SVM\",[500,1000,1500,2000,2500])"
   ]
  },
  {
   "cell_type": "code",
   "execution_count": 110,
   "metadata": {},
   "outputs": [
    {
     "data": {
      "image/png": "[encoded data removed]",
      "text/plain": [
       "<Figure size 432x288 with 1 Axes>"
      ]
     },
     "metadata": {
      "needs_background": "light"
     },
     "output_type": "display_data"
    }
   ],
   "source": [
    "plot_learning_curve(rfc_clf, X_train, y_train, \"RFC\",[500,1000,1500,2000,2500])"
   ]
  },
  {
   "cell_type": "markdown",
   "metadata": {},
   "source": [
    "#### Using paired t-test to check if two classifiers have difference"
   ]
  },
  {
   "cell_type": "code",
   "execution_count": 112,
   "metadata": {},
   "outputs": [],
   "source": [
    "def paired_ttest(X, y, clf1, clf2):\n",
    "    t, p = paired_ttest_kfold_cv(estimator1=clf1, estimator2=clf2, X=X, y=np.array(y))\n",
    "    print('t statistic: %.3f' % t)\n",
    "    print('p value: %.3f' % p)"
   ]
  },
  {
   "cell_type": "markdown",
   "metadata": {},
   "source": [
    "Given null hypothesis and alternative hypothesis <br>\n",
    "H0 : means difference between two classifier is 0 <br>\n",
    "H1 : means difference between two classifier is not 0 <br>"
   ]
  },
  {
   "cell_type": "code",
   "execution_count": 113,
   "metadata": {},
   "outputs": [
    {
     "name": "stdout",
     "output_type": "stream",
     "text": [
      "t test for classfiers SVM and RFC\n",
      "t statistic: 2.758\n",
      "p value: 0.022\n"
     ]
    }
   ],
   "source": [
    "print(\"t test for classfiers SVM and RFC\")\n",
    "paired_ttest(X, y, svm_clf, rfc_clf)"
   ]
  },
  {
   "cell_type": "markdown",
   "metadata": {},
   "source": [
    "P value is 0.022 < 0.05, reject the null hypothesis H0. <br> thus, two classifier have siginificant difference"
   ]
  },
  {
   "cell_type": "code",
   "execution_count": null,
   "metadata": {},
   "outputs": [],
   "source": []
  }
 ],
 "metadata": {
  "kernelspec": {
   "display_name": "Python 3",
   "language": "python",
   "name": "python3"
  },
  "language_info": {
   "codemirror_mode": {
    "name": "ipython",
    "version": 3
   },
   "file_extension": ".py",
   "mimetype": "text/x-python",
   "name": "python",
   "nbconvert_exporter": "python",
   "pygments_lexer": "ipython3",
   "version": "3.7.3"
  },
  "latex_envs": {
   "LaTeX_envs_menu_present": true,
   "autoclose": false,
   "autocomplete": true,
   "bibliofile": "biblio.bib",
   "cite_by": "apalike",
   "current_citInitial": 1,
   "eqLabelWithNumbers": true,
   "eqNumInitial": 1,
   "hotkeys": {
    "equation": "Ctrl-E",
    "itemize": "Ctrl-I"
   },
   "labels_anchors": false,
   "latex_user_defs": false,
   "report_style_numbering": false,
   "user_envs_cfg": false
  }
 },
 "nbformat": 4,
 "nbformat_minor": 2
}
